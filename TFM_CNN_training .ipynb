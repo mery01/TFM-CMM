{
  "nbformat": 4,
  "nbformat_minor": 0,
  "metadata": {
    "colab": {
      "name": "TFM_CNN_training.ipynb",
      "provenance": []
    },
    "kernelspec": {
      "name": "python3",
      "display_name": "Python 3"
    }
  },
  "cells": [
    {
      "cell_type": "markdown",
      "metadata": {
        "id": "Mgt3Aza8GbTg"
      },
      "source": [
        "# **MÁSTER BIG DATA Y DATA SCIENCE**\n",
        "\n",
        "---\n",
        "\n",
        "### **Mapas de atención visual basados en redes neuronales para la búsqueda de predicciones**\n",
        "\n",
        "\n",
        "\n",
        "*   #### Curso: Trabajo fin de máster\n",
        "*   #### Autor:  María Alonso Arroyo\n",
        "*   #### Fecha entrega: 30/09/21\n",
        "\n",
        "\n",
        "\n",
        "\n",
        "\n",
        "\n",
        "\n",
        "\n",
        "\n",
        "\n"
      ]
    },
    {
      "cell_type": "code",
      "metadata": {
        "id": "nzoQ8ZrGOH1E",
        "colab": {
          "base_uri": "https://localhost:8080/",
          "height": 35
        },
        "outputId": "6ea6c369-cb1e-4221-fe76-754adca795ae"
      },
      "source": [
        "# Se importa la función de drive que es donde se encuentra el dataset\n",
        "from google.colab import drive\n",
        "\n",
        "# Esto provocará la autorización\n",
        "drive.mount('/content/drive')\n",
        "\n",
        "# Se cambia el directorio\n",
        "import os\n",
        "os.chdir('/content/drive/My Drive/MASTER/TFM/TFM_CNN_training')"
      ],
      "execution_count": null,
      "outputs": [
        {
          "output_type": "stream",
          "text": [
            "Drive already mounted at /content/drive; to attempt to forcibly remount, call drive.mount(\"/content/drive\", force_remount=True).\n"
          ],
          "name": "stdout"
        }
      ]
    },
    {
      "cell_type": "markdown",
      "metadata": {
        "id": "5t5DfN8GQGPY"
      },
      "source": [
        "\n",
        "#### Librerías \n"
      ]
    },
    {
      "cell_type": "code",
      "metadata": {
        "id": "B0cVCZjYmpcU",
        "colab": {
          "base_uri": "https://localhost:8080/",
          "height": 146
        },
        "outputId": "20d1d315-e6be-4cff-af98-006ee4061ac9"
      },
      "source": [
        "pip install multimatch-gaze"
      ],
      "execution_count": null,
      "outputs": [
        {
          "output_type": "stream",
          "text": [
            "Requirement already satisfied: multimatch-gaze in /usr/local/lib/python3.6/dist-packages (0.1.2)\n",
            "Requirement already satisfied: scipy in /usr/local/lib/python3.6/dist-packages (from multimatch-gaze) (1.3.1)\n",
            "Requirement already satisfied: pandas in /usr/local/lib/python3.6/dist-packages (from multimatch-gaze) (0.24.2)\n",
            "Requirement already satisfied: numpy in /usr/local/lib/python3.6/dist-packages (from multimatch-gaze) (1.16.5)\n",
            "Requirement already satisfied: pytz>=2011k in /usr/local/lib/python3.6/dist-packages (from pandas->multimatch-gaze) (2018.9)\n",
            "Requirement already satisfied: python-dateutil>=2.5.0 in /usr/local/lib/python3.6/dist-packages (from pandas->multimatch-gaze) (2.5.3)\n",
            "Requirement already satisfied: six>=1.5 in /usr/local/lib/python3.6/dist-packages (from python-dateutil>=2.5.0->pandas->multimatch-gaze) (1.12.0)\n"
          ],
          "name": "stdout"
        }
      ]
    },
    {
      "cell_type": "code",
      "metadata": {
        "id": "erLXOPTiPYRi"
      },
      "source": [
        "import numpy  as np\n",
        "import matplotlib.pyplot as plt  \n",
        "import cv2 as cv                 # Importa opencv\n",
        "plt.style.use('default')\n",
        "from os import listdir\n",
        "from keras import backend as K\n",
        "import tensorflow as tf\n",
        "\n",
        "from scipy.io import loadmat\n",
        "from scipy.ndimage import gaussian_filter\n",
        "from scipy import ndimage\n",
        "from imageio import imread\n",
        "\n",
        "import skimage.io as io          # Importa skimage necesario para leer imágenes como arrays\n",
        "from skimage.transform import rescale\n",
        "from skimage import color\n",
        "from skimage.measure import label\n",
        "from skimage.morphology import extrema\n",
        "from skimage import exposure\n",
        "\n",
        "import multimatch_gaze as m"
      ],
      "execution_count": null,
      "outputs": []
    },
    {
      "cell_type": "markdown",
      "metadata": {
        "id": "E21bcFYU6ct-"
      },
      "source": [
        "#### Funciones"
      ]
    },
    {
      "cell_type": "code",
      "metadata": {
        "id": "7TOKY4gIm51l"
      },
      "source": [
        "def normalize_map(s_map):\n",
        "    # Normaliza el mapa de prominencia\n",
        "    norm_s_map = (s_map - np.min(s_map))/((np.max(s_map)-np.min(s_map))*1.0)\n",
        "    return norm_s_map"
      ],
      "execution_count": null,
      "outputs": []
    },
    {
      "cell_type": "code",
      "metadata": {
        "id": "UCxP6CVnnHWR"
      },
      "source": [
        "# Determina los peaks necesarios\n",
        "def peaks():\n",
        "  a = np.arange(3,13,1) # El resultado es un array [3 a 12]\n",
        "  # Asigna probabilidades a cada número \n",
        "  p = np.asarray([9, 89, 405, 1098, 1952, 2466, 2461, 1256, 252, 12], dtype= np.float16 )\n",
        "  p[:] = [x / 10000 for x in p]\n",
        "  result = np.random.choice(a, p=p)\n",
        "  return result"
      ],
      "execution_count": null,
      "outputs": []
    },
    {
      "cell_type": "markdown",
      "metadata": {
        "id": "iPcG-h1h_rxk"
      },
      "source": [
        "#### Variables globales"
      ]
    },
    {
      "cell_type": "code",
      "metadata": {
        "id": "dnXWyou5fmUe"
      },
      "source": [
        "# Tamaño de entrada a la CNN\n",
        "in_rows = 240\n",
        "in_cols = 320\n",
        "\n",
        "# Tamaño de salida a la CNN\n",
        "out_rows = 240\n",
        "out_cols = 320\n",
        "\n",
        "# Rutas\n",
        "path_imgs = \"/content/drive/My Drive/MASTER/TFM/SALICON/images/train2014/\"\n",
        "path_maps = \"/content/drive/My Drive/MASTER/TFM/SALICON/maps/train/\"\n",
        "path_imgs_test = \"/content/drive/My Drive/MASTER/TFM/SALICON/images/val2014/\"\n",
        "path_maps_test = \"/content/drive/My Drive/MASTER/TFM/SALICON/maps/val/\"\n",
        "\n",
        "path_fixs = \"/content/drive/My Drive/MASTER/TFM/SALICON/fix_maps/train/\"\n",
        "path_fixs_test = \"/content/drive/My Drive/MASTER/TFM/SALICON/fix_maps/val/\"\n",
        "\n",
        "path_predic = \"/content/drive/My Drive/MASTER/TFM/predictions/test/\"\n",
        "path_pred_val = \"/content/drive/My Drive/MASTER/TFM/predictions/val/\"\n",
        "#path_weights= \"/content/drive/My Drive/MASTER/TFM/tmp2\"\n",
        "weights_filename = 'imagenet-vgg-m.mat'\n",
        "\n",
        "font = cv.FONT_HERSHEY_SIMPLEX\n"
      ],
      "execution_count": null,
      "outputs": []
    },
    {
      "cell_type": "markdown",
      "metadata": {
        "id": "4-vVZHYa7_-i"
      },
      "source": [
        "#### PREPROCESAMIENTO"
      ]
    },
    {
      "cell_type": "markdown",
      "metadata": {
        "id": "9WM2qSuZ7ARe"
      },
      "source": [
        "#### Función que procesa previamente las imágenes antes de introducirlas en la arquitectura de CNN"
      ]
    },
    {
      "cell_type": "code",
      "metadata": {
        "id": "4ZrJxnrQhi_c"
      },
      "source": [
        "def preprocess_images(paths, in_rows, in_cols):\n",
        "  \n",
        "\n",
        "    for i, path in enumerate(paths):\n",
        "        original_image = io.imread(path)  ims = np.zeros((len(paths), in_rows, in_cols, 3))\n",
        "        ims[i] = rescale(original_image, 1.0 / 2.0, anti_aliasing=False)\n",
        "        \n",
        "    ims[:, :, :, 0] -= 126.763/255     #103.939/255\n",
        "    ims[:, :, :, 1] -= 121.651/255     #116.779/255\n",
        "    ims[:, :, :, 2] -= 114.519/255     #123.68/255\n",
        "\n",
        "    \n",
        "    return ims"
      ],
      "execution_count": null,
      "outputs": []
    },
    {
      "cell_type": "markdown",
      "metadata": {
        "id": "zQNeh94C-3g-"
      },
      "source": [
        "#### Funciones que preprocesan los mapas de la verdad y el mapa de fijaciones antes de introducirlos en la arquitectura de CNN"
      ]
    },
    {
      "cell_type": "code",
      "metadata": {
        "id": "gQ2rl0z63r4O"
      },
      "source": [
        "def preprocess_maps(paths, in_rows, in_cols):\n",
        "    ims = np.zeros((len(paths), in_rows, in_cols, 1))\n",
        "\n",
        "    for i, path in enumerate(paths):\n",
        "        original_map = io.imread(path)\n",
        "        ims[i,:,:,0] = rescale(original_map.astype(np.float32), 1.0 / 2.0, anti_aliasing=False)   #Reducida a la mitad\n",
        "        ims[i,:,:,0] /= 255.0\n",
        "   \n",
        "    return ims"
      ],
      "execution_count": null,
      "outputs": []
    },
    {
      "cell_type": "code",
      "metadata": {
        "id": "hJt7DdRzB1Yi"
      },
      "source": [
        "def preprocess_fixs(paths, in_rows, in_cols):\n",
        "    ims = np.zeros((len(paths), in_rows, in_cols, 1))\n",
        "\n",
        "    for i, path in enumerate(paths):\n",
        "        original_map = color.rgb2gray(io.imread(path))\n",
        "        ims[i,:,:,0] = rescale(original_map.astype(np.float32), 1.0 / 2.0, anti_aliasing=False)   #Reducida a la mitad\n",
        "        ims[i,:,:,0] = normalize_map(ims[i,:,:,0])\n",
        "        r,c = np.nonzero(ims[i,:,:,0])\n",
        "        # Después de cambiar la escala, los valores de intensidad cambian -> Conversión de imagen a binaria\n",
        "        for j in range (len(r)):\n",
        "          ims[i,r[j],c[j],0]=1\n",
        "   \n",
        "    return ims"
      ],
      "execution_count": null,
      "outputs": []
    },
    {
      "cell_type": "markdown",
      "metadata": {
        "id": "HOtE-ity-_cM"
      },
      "source": [
        "#### Función que define el generador que será utilizado por la función fit_generator para leer imágenes durante el proceso de entrenamiento."
      ]
    },
    {
      "cell_type": "code",
      "metadata": {
        "id": "luV2FI9Q5VOa"
      },
      "source": [
        "def generator(b_s, phase_gen='train'):\n",
        "    \n",
        "    list_images = [path_imgs + f for f in os.listdir(path_imgs) \n",
        "                   if f.endswith(('.jpg', '.jpeg', '.png'))]\n",
        "    list_maps = [path_maps + f for f in os.listdir(path_maps) \n",
        "                 if f.endswith(('.jpg', '.jpeg', '.png'))]\n",
        "    \n",
        "    # Hace correspondencia entre imágenes y mapas \n",
        "    list_images.sort()\n",
        "    list_maps.sort()\n",
        "    \n",
        "    if phase_gen == 'train':\n",
        "        images = list_images[0:9000]\n",
        "        maps = list_maps[0:9000]\n",
        "    elif phase_gen == 'val':\n",
        "        images = list_images[9000:]\n",
        "        maps = list_maps[9000:]\n",
        "    else: \n",
        "        raise NotImplementedError\n",
        "\n",
        "    counter = 0\n",
        "    while True:\n",
        "        Y = preprocess_maps(maps[counter:counter+b_s], out_rows, out_cols)\n",
        "        yield preprocess_images(images[counter:counter+b_s],in_rows, in_cols),Y\n",
        "        counter = (counter + b_s) % len(images)"
      ],
      "execution_count": null,
      "outputs": []
    },
    {
      "cell_type": "markdown",
      "metadata": {
        "id": "wopRPXQ4_RK-"
      },
      "source": [
        "#### Función que define el generador que leerá imágenes de prueba para probar el desempeño de la arquitectura CNN"
      ]
    },
    {
      "cell_type": "code",
      "metadata": {
        "id": "WgK-7Qf99ZHm"
      },
      "source": [
        "def generator_test(b_s, path_imgs_test):\n",
        "    images = [path_imgs_test + f for f in os.listdir(path_imgs_test) if f.endswith(('.jpg', '.jpeg', '.png'))]\n",
        "    maps = [path_maps_test + f for f in os.listdir(path_maps_test) if f.endswith(('.jpg', '.jpeg', '.png'))]\n",
        "    fixs = [path_fixs_test + f for f in os.listdir(path_fixs_test) if f.endswith(('.jpg', '.jpeg', '.png'))]\n",
        "    images.sort()\n",
        "    maps.sort()\n",
        "    fixs.sort()\n",
        "\n",
        "    counter = 0\n",
        "    while True:\n",
        "        Y = preprocess_maps(maps[counter:counter+b_s], out_rows, out_cols)\n",
        "        F = preprocess_fixs(fixs[counter:counter+b_s], out_rows, out_cols)\n",
        "        return preprocess_images(images[counter:counter + b_s], in_rows, in_cols),Y, F\n",
        "        counter = (counter + b_s) % len(images)"
      ],
      "execution_count": null,
      "outputs": []
    },
    {
      "cell_type": "markdown",
      "metadata": {
        "id": "YuycbHaeCSGC"
      },
      "source": [
        "#### Función que nos permite replicar elementos mediante tensorflow"
      ]
    },
    {
      "cell_type": "code",
      "metadata": {
        "id": "DJ8uAWu2CRfu"
      },
      "source": [
        "def repeat_elements(x,rep,axis):\n",
        "    x_shape = x.get_shape().as_list()\n",
        "    reps = np.ones(len(x_shape))\n",
        "    reps[axis] = rep\n",
        "    x_rep = tf.tile(x,reps)\n",
        "    return x_rep"
      ],
      "execution_count": null,
      "outputs": []
    },
    {
      "cell_type": "markdown",
      "metadata": {
        "id": "9wkTXChHCb9y"
      },
      "source": [
        "#### Función que implementa la métrica de divergencia Kullback Leibler en 2D que mide la diferencia entre dos distribuciones de probabilidad (mapas gaussianos y mapas de predicción)."
      ]
    },
    {
      "cell_type": "code",
      "metadata": {
        "id": "15SdMasLCcTO"
      },
      "source": [
        "# KL-Divergence Loss\n",
        "def kl_divergence_2d(y_true, y_pred):\n",
        "    min_y_true = repeat_elements(K.expand_dims(repeat_elements(K.expand_dims(K.min(K.min(y_true, axis=1), axis=1)), \n",
        "                                                                   in_rows, axis=1)), in_cols, axis=2)\n",
        "    min_y_pred = repeat_elements(K.expand_dims(repeat_elements(K.expand_dims(K.min(K.min(y_pred, axis=1), axis=1)), \n",
        "                                                                   in_rows, axis=1)), in_cols, axis=2)\n",
        "    max_y_true = repeat_elements(K.expand_dims(repeat_elements(K.expand_dims(K.max(K.max(y_true, axis=1), axis=1)), \n",
        "                                                                   in_rows, axis=1)), in_cols, axis=2)\n",
        "    max_y_pred = repeat_elements(K.expand_dims(repeat_elements(K.expand_dims(K.max(K.max(y_pred, axis=1), axis=1)), \n",
        "                                                                   in_rows, axis=1)), in_cols, axis=2)\n",
        "    y_true = (y_true - min_y_true) / (max_y_true - min_y_true + K.epsilon())\n",
        "    y_pred = (y_pred - min_y_pred) / (max_y_pred - min_y_pred + K.epsilon())\n",
        "\n",
        "    sum_y_true = repeat_elements(K.expand_dims(repeat_elements(K.expand_dims(K.sum(K.sum(y_true, axis=1), axis=1)), \n",
        "                                                                   out_rows, axis=1)), out_cols, axis=2)\n",
        "    sum_y_pred = repeat_elements(K.expand_dims(repeat_elements(K.expand_dims(K.sum(K.sum(y_pred, axis=1), axis=1)), \n",
        "                                                                   out_rows, axis=1)), out_cols, axis=2)\n",
        "    \n",
        "    y_true = K.clip(y_true / (sum_y_true + K.epsilon()), K.epsilon(), 1)\n",
        "    y_pred = K.clip(y_pred / (sum_y_pred + K.epsilon()), K.epsilon(), 1)\n",
        "    \n",
        "    return K.sum(K.sum(y_true * K.log(y_true / y_pred), axis=2), axis=1)"
      ],
      "execution_count": null,
      "outputs": []
    },
    {
      "cell_type": "markdown",
      "metadata": {
        "id": "EWLVPq1UKS7y"
      },
      "source": [
        "#### Función que carga pesos "
      ]
    },
    {
      "cell_type": "code",
      "metadata": {
        "id": "U8ZRhJ3VKlqE"
      },
      "source": [
        "def load_matconvnet_weights(model, weights_filename, idx_layers=[0,4,8]):\n",
        "    data = loadmat(weights_filename,matlab_compatible=False,struct_as_record=False) \n",
        "     \n",
        "    layers = data['layers'][0]\n",
        "    \n",
        "    for i in idx_layers:\n",
        "        weights = layers[i][0][0].weights[0,0]\n",
        "        bias = np.squeeze(layers[i][0][0].weights[0,1])\n",
        "        model.get_layer(layers[i][0][0].name[0]).set_weights([weights,bias])\n",
        "    \n",
        "    return model"
      ],
      "execution_count": null,
      "outputs": []
    },
    {
      "cell_type": "markdown",
      "metadata": {
        "id": "KtH_iuao8mA6"
      },
      "source": [
        "#### EVALUACIÓN DE LAS MÉTRICAS"
      ]
    },
    {
      "cell_type": "markdown",
      "metadata": {
        "id": "3_eX2RiGYcw2"
      },
      "source": [
        "#### Función que calcula el área bajo la curva"
      ]
    },
    {
      "cell_type": "code",
      "metadata": {
        "id": "zBch_axshn3A"
      },
      "source": [
        "def sAUC_Zhang(smap,gt,other_map,splits=100,stepsize=0.01):\n",
        "    # smap es el mapa de prominencia o saliency map\n",
        "    # gt es el mapa de fijación humana (matriz binaria)\n",
        "    # other_map es un mapa de fijación binario tomando la unión de\n",
        "    # fijaciones de M otras imágenes aleatorias \n",
        "    # splits es el número de divisiones aleatorias\n",
        "    # stepsize sirve para recorrer el mapa de prominencia\n",
        "    \n",
        "    eps = np.finfo(float).eps\n",
        "    \n",
        "    # Se normaliza el saliency map\n",
        "    smap = (smap-np.min(smap))/(np.max(smap)-np.min(smap)+eps)\n",
        "    smap=np.nan_to_num(smap)\n",
        "    other_map = (other_map-np.min(other_map))/(np.max(other_map)-np.min(other_map)+eps)\n",
        "    other_map=np.nan_to_num(other_map)\n",
        "    \n",
        "    # Hace del mapa de prominencia, otro mapa del tamaño del mapa de fijación\n",
        "    S = np.reshape(smap,-1)\n",
        "    F = np.reshape(gt,-1)\n",
        "    Oth = np.reshape(other_map,-1)\n",
        "    \n",
        "    Sth = S[F>0]; \n",
        "    Nfixations = len(Sth)\n",
        "    \n",
        "    # Para cada fijación,  se muestra los valores de Nsplits del mapa en ubicaciones\n",
        "    # especificadas por otherMap\n",
        "    ind = np.where(Oth>0)[0] # Encuentra ubicaciones de fijación en las imágenes\n",
        "    pind = Oth[ind]\n",
        "    pind = pind/(np.sum(pind)+eps)\n",
        "    if np.sum(np.isnan(pind)) == np.size(pind):\n",
        "        pind = (1.0/np.size(pind))*np.ones(np.shape(pind))\n",
        "    \n",
        "    Nfixations_oth = np.minimum(Nfixations,len(ind))\n",
        "    randfix = [];\n",
        "    \n",
        "    for i in np.arange(splits):\n",
        "        randind = np.random.choice(ind,Nfixations_oth,p=pind)\n",
        "        randfix.append(S[randind])\n",
        "        \n",
        "    # Calcula el área bajo la curva por random split (aleatorias)\n",
        "    if Nfixations > 0:\n",
        "        auc = [] # nan(1,Nsplits);\n",
        "        for s in np.arange(splits):\n",
        "            \n",
        "            curfix = randfix[s]\n",
        "            \n",
        "            allthreshes = np.flip(np.arange(0,np.double(np.max([Sth,curfix]))+stepsize,stepsize), axis=0)\n",
        "            tp = np.zeros(len(allthreshes)+2)\n",
        "            fp = np.zeros(len(allthreshes)+2)\n",
        "            tp[0]=0; tp[-1] = 1\n",
        "            fp[0]=0; fp[-1] = 1\n",
        "            \n",
        "            for i in np.arange(len(allthreshes)):\n",
        "                thresh = allthreshes[i]\n",
        "                tp[i+1] = np.sum((Sth >= thresh))/Nfixations\n",
        "                fp[i+1] = np.sum((curfix >= thresh))/Nfixations_oth\n",
        "            \n",
        "            auc.append(np.trapz(tp,fp)) # Media sobre el área bajo la curva\n",
        "        \n",
        "        score = np.mean(auc) \n",
        "        if np.isnan(score):\n",
        "            score = 0\n",
        "    else:\n",
        "        score = np.nan\n",
        "        tp = []\n",
        "        fp = []\n",
        "\t\n",
        "    return score"
      ],
      "execution_count": null,
      "outputs": []
    },
    {
      "cell_type": "code",
      "metadata": {
        "id": "h9J9TyZJluLM"
      },
      "source": [
        "def nss(smap,gt):\n",
        "    # smap es el mapa de prominencia o saliency map\n",
        "    # gt es el mapa de fijación humana (matriz binaria)\n",
        "    \n",
        "\t  # Hace que el saliency map sea del tamaño del mapa de fijación\n",
        "    if np.shape(smap)[0]!=np.shape(gt)[0] or np.shape(smap)[1]!=np.shape(gt)[1]:\n",
        "        smap = rescale(smap, np.shape(gt),anti_aliasing='False')\n",
        "\n",
        "    # Normaliza el saliency map\n",
        "    smap = (smap-np.min(smap))/(np.max(smap)-np.min(smap))\n",
        "    smap=np.nan_to_num(smap)\n",
        "    \n",
        "    S = np.reshape(smap,-1)\n",
        "    F = np.reshape(gt,-1)\n",
        "    \n",
        "    Sth = S[F>0];\n",
        "    Sth_norm = (Sth - np.mean(smap))/np.std(smap)\n",
        "    \n",
        "    NSSscore = np.mean(Sth_norm)\n",
        "    \n",
        "    return NSSscore"
      ],
      "execution_count": null,
      "outputs": []
    },
    {
      "cell_type": "code",
      "metadata": {
        "id": "3shgVw64tuHO"
      },
      "source": [
        "def kldiv(s_map,gt):\n",
        "    s_map = normalize_map(s_map)\n",
        "    s_map /= (np.sum(s_map)*1.0)\n",
        "    gt = gt/(np.sum(gt)*1.0)\n",
        "    eps = 2.2204e-16\n",
        "    res = gt * np.log(eps + gt/(s_map + eps))\n",
        "    return np.sum(res)"
      ],
      "execution_count": null,
      "outputs": []
    },
    {
      "cell_type": "markdown",
      "metadata": {
        "id": "wbn80uVJ89sS"
      },
      "source": [
        "#### Arquitectura redes neuronales (CNN)"
      ]
    },
    {
      "cell_type": "markdown",
      "metadata": {
        "id": "l07T986IQB2w"
      },
      "source": [
        "\n",
        " #### Arquitectura inicial\n"
      ]
    },
    {
      "cell_type": "code",
      "metadata": {
        "id": "ZkAL8CI2RJnA",
        "colab": {
          "base_uri": "https://localhost:8080/",
          "height": 273
        },
        "outputId": "0b5a68c7-9cce-4330-ffa7-98cfecc83892"
      },
      "source": [
        "arch = io.imread('CNN_Architecture.PNG')\n",
        "plt.imshow(arch)\n",
        "plt.show()"
      ],
      "execution_count": null,
      "outputs": [
        {
          "output_type": "display_data",
          "data": {
            "image/png": "[encoded data removed]",
            "text/plain": [
              "<Figure size 640x480 with 1 Axes>"
            ]
          },
          "metadata": {
            "tags": []
          }
        }
      ]
    },
    {
      "cell_type": "markdown",
      "metadata": {
        "id": "3IIw87MBKu5a"
      },
      "source": [
        "#### Función que define LNR para implementar la capa de normalización en Keras\n",
        "\n",
        "\n"
      ]
    },
    {
      "cell_type": "code",
      "metadata": {
        "id": "wa2OAfxSK9Jm"
      },
      "source": [
        "def LRN(x):\n",
        "    import tensorflow as tf\n",
        "    return tf.nn.local_response_normalization(x)"
      ],
      "execution_count": null,
      "outputs": []
    },
    {
      "cell_type": "markdown",
      "metadata": {
        "id": "1pK7aur-DLPA"
      },
      "source": [
        "#### Función que define las Convolution layers"
      ]
    },
    {
      "cell_type": "code",
      "metadata": {
        "id": "WEagVShyZW1a"
      },
      "source": [
        "def conv2D(filters, k_s, n_conv, act='relu'):\n",
        "  \n",
        "    conv_layer = Conv2D(filters,(k_s,k_s),padding='same',activation=act,\n",
        "                kernel_initializer=RandomNormal(mean=0.0, stddev=0.01, seed=2),\n",
        "                bias_initializer=Constant(value=0.1), name=n_conv)\n",
        "    \n",
        "    return conv_layer"
      ],
      "execution_count": null,
      "outputs": []
    },
    {
      "cell_type": "code",
      "metadata": {
        "id": "mtNQARCdTkHG",
        "colab": {
          "base_uri": "https://localhost:8080/",
          "height": 298
        },
        "outputId": "8e59609d-481a-4c08-d037-b623f3a0d261"
      },
      "source": [
        "from keras.models import Sequential, load_model\n",
        "from keras.layers import Conv2D, MaxPooling2D, Conv2DTranspose, Lambda, UpSampling2D\n",
        "from keras.optimizers import Adam\n",
        "from keras.initializers import RandomNormal, Constant\n",
        "from keras.callbacks import EarlyStopping, ModelCheckpoint\n",
        "\n",
        "b_s = 32\n",
        "epochs = 25 \n",
        "\n",
        "# Función seed () aleatoria (para los pesos)\n",
        "#seed(3)\n",
        "\n",
        "model = Sequential()\n",
        "model.add(Conv2D(96,(7,7),padding='same',activation='relu',\n",
        "                kernel_initializer=RandomNormal(mean=0.0, stddev=0.01,seed=2),\n",
        "                bias_initializer=Constant(value=0.1), name='conv1',\n",
        "                input_shape=(240,320,3)))\n",
        "model.add(Lambda(LRN))\n",
        "model.add(MaxPooling2D(pool_size=(3,3),strides=2,padding='same'))\n",
        "model.add(conv2D(256, 5, n_conv='conv2'))\n",
        "model.add(MaxPooling2D(pool_size=(3,3),strides=2,padding='same'))\n",
        "model.add(conv2D(512, 3, n_conv='conv3'))\n",
        "model.add(conv2D(512, 5, n_conv='conv4'))\n",
        "model.add(conv2D(512, 5, n_conv='conv5'))\n",
        "model.add(conv2D(256, 7, n_conv='conv6'))\n",
        "model.add(conv2D(128, 11, n_conv='conv7'))\n",
        "model.add(conv2D(1, 13, n_conv='conv8'))\n",
        "#model.add(UpSampling2D(size=(16, 16)))\n",
        "#model.add(Conv2D(1,(8,8),strides=(4,4),padding='same',activation='relu',\n",
        "#                kernel_initializer=RandomNormal(mean=0.0, stddev=0.01,seed=2),\n",
        "#                bias_initializer=Constant(value=0.1), name='convOut'))\n",
        "model.add(Conv2DTranspose(1,(8,8),strides=4,padding='same',activation=None,\n",
        "                kernel_initializer=RandomNormal(mean=0.0, stddev=0.01,seed=2),\n",
        "                bias_initializer=Constant(value=0.1)))\n",
        "\n",
        "# Carga los pesos de un fichero de matlab\n",
        "load_matconvnet_weights(model, weights_filename)\n",
        "\n",
        "model.load_weights(filepath='tmp2/weights.24.hdf5')\n",
        "model.compile(loss=kl_divergence_2d, optimizer=Adam(lr=0.00001)) #metrics=[kl_divergence_2d] \n",
        "              # Default lr parameter = 0.001\n",
        "  \n",
        "# ModelCheckpoint(filepath, monitor='val_loss', verbose=0, save_best_only=False, save_weights_only=False, mode='auto', period=1)\n",
        "checkpointer = ModelCheckpoint(filepath='tmp4/weights.{epoch:02d}.hdf5', verbose=1, save_best_only=True)\n",
        "\n",
        "# EarlyStopping(monitor='val_loss', min_delta=0, patience=0, verbose=0, mode='auto', baseline=None, restore_best_weights=False)\n",
        "earlyStop = EarlyStopping(monitor='val_loss', patience=5, verbose=1, restore_best_weights=False)"
      ],
      "execution_count": null,
      "outputs": [
        {
          "output_type": "stream",
          "text": [
            "WARNING: Logging before flag parsing goes to stderr.\n",
            "W0716 12:09:25.216133 139787602458496 deprecation_wrapper.py:119] From /usr/local/lib/python3.6/dist-packages/keras/backend/tensorflow_backend.py:74: The name tf.get_default_graph is deprecated. Please use tf.compat.v1.get_default_graph instead.\n",
            "\n",
            "W0716 12:09:25.272207 139787602458496 deprecation_wrapper.py:119] From /usr/local/lib/python3.6/dist-packages/keras/backend/tensorflow_backend.py:517: The name tf.placeholder is deprecated. Please use tf.compat.v1.placeholder instead.\n",
            "\n",
            "W0716 12:09:25.280038 139787602458496 deprecation_wrapper.py:119] From /usr/local/lib/python3.6/dist-packages/keras/backend/tensorflow_backend.py:4115: The name tf.random_normal is deprecated. Please use tf.random.normal instead.\n",
            "\n",
            "W0716 12:09:25.313764 139787602458496 deprecation_wrapper.py:119] From /usr/local/lib/python3.6/dist-packages/keras/backend/tensorflow_backend.py:3976: The name tf.nn.max_pool is deprecated. Please use tf.nn.max_pool2d instead.\n",
            "\n",
            "W0716 12:09:32.221543 139787602458496 deprecation_wrapper.py:119] From /usr/local/lib/python3.6/dist-packages/keras/backend/tensorflow_backend.py:174: The name tf.get_default_session is deprecated. Please use tf.compat.v1.get_default_session instead.\n",
            "\n",
            "W0716 12:09:32.223237 139787602458496 deprecation_wrapper.py:119] From /usr/local/lib/python3.6/dist-packages/keras/backend/tensorflow_backend.py:181: The name tf.ConfigProto is deprecated. Please use tf.compat.v1.ConfigProto instead.\n",
            "\n",
            "W0716 12:09:37.960326 139787602458496 deprecation_wrapper.py:119] From /usr/local/lib/python3.6/dist-packages/keras/optimizers.py:790: The name tf.train.Optimizer is deprecated. Please use tf.compat.v1.train.Optimizer instead.\n",
            "\n"
          ],
          "name": "stderr"
        }
      ]
    },
    {
      "cell_type": "code",
      "metadata": {
        "id": "4wq_X1L9Wcha",
        "colab": {
          "base_uri": "https://localhost:8080/",
          "height": 1000
        },
        "outputId": "da07dcf0-cb34-4b34-db77-51b67de940fa"
      },
      "source": [
        "# Entrena el modelo en datos generados por un generador de Python lr = 0.00001\n",
        "record = model.fit_generator(generator(b_s, phase_gen='train'), \n",
        "                    steps_per_epoch=np.around(9000/b_s), epochs=epochs, verbose=1,\n",
        "                    validation_data=generator(b_s, phase_gen='val'),\n",
        "                    validation_steps=np.around(999/b_s),\n",
        "                    callbacks=[checkpointer, earlyStop])"
      ],
      "execution_count": null,
      "outputs": [
        {
          "output_type": "stream",
          "text": [
            "Epoch 1/25\n"
          ],
          "name": "stdout"
        },
        {
          "output_type": "stream",
          "text": [
            "/usr/local/lib/python3.6/dist-packages/skimage/transform/_warps.py:23: UserWarning: The default multichannel argument (None) is deprecated.  Please specify either True or False explicitly.  multichannel will default to False starting with release 0.16.\n",
            "  warn('The default multichannel argument (None) is deprecated.  Please '\n"
          ],
          "name": "stderr"
        },
        {
          "output_type": "stream",
          "text": [
            "281/281 [==============================] - 4776s 17s/step - loss: 1.0722 - val_loss: 0.9305\n",
            "\n",
            "Epoch 00001: val_loss improved from inf to 0.93052, saving model to tmp2/weights.01.hdf5\n",
            "Epoch 2/25\n",
            "281/281 [==============================] - 871s 3s/step - loss: 0.8420 - val_loss: 0.7250\n",
            "\n",
            "Epoch 00002: val_loss improved from 0.93052 to 0.72501, saving model to tmp2/weights.02.hdf5\n",
            "Epoch 3/25\n",
            "281/281 [==============================] - 881s 3s/step - loss: 0.6799 - val_loss: 0.6114\n",
            "\n",
            "Epoch 00003: val_loss improved from 0.72501 to 0.61139, saving model to tmp2/weights.03.hdf5\n",
            "Epoch 4/25\n",
            "281/281 [==============================] - 889s 3s/step - loss: 0.5950 - val_loss: 0.5667\n",
            "\n",
            "Epoch 00004: val_loss improved from 0.61139 to 0.56670, saving model to tmp2/weights.04.hdf5\n",
            "Epoch 5/25\n",
            "281/281 [==============================] - 871s 3s/step - loss: 0.5610 - val_loss: 0.5448\n",
            "\n",
            "Epoch 00005: val_loss improved from 0.56670 to 0.54476, saving model to tmp2/weights.05.hdf5\n",
            "Epoch 6/25\n",
            "281/281 [==============================] - 863s 3s/step - loss: 0.5435 - val_loss: 0.5340\n",
            "\n",
            "Epoch 00006: val_loss improved from 0.54476 to 0.53404, saving model to tmp2/weights.06.hdf5\n",
            "Epoch 7/25\n",
            "281/281 [==============================] - 866s 3s/step - loss: 0.5286 - val_loss: 0.5239\n",
            "\n",
            "Epoch 00007: val_loss improved from 0.53404 to 0.52392, saving model to tmp2/weights.07.hdf5\n",
            "Epoch 8/25\n",
            "281/281 [==============================] - 868s 3s/step - loss: 0.5178 - val_loss: 0.5083\n",
            "\n",
            "Epoch 00008: val_loss improved from 0.52392 to 0.50830, saving model to tmp2/weights.08.hdf5\n",
            "Epoch 9/25\n",
            "281/281 [==============================] - 866s 3s/step - loss: 0.5075 - val_loss: 0.5022\n",
            "\n",
            "Epoch 00009: val_loss improved from 0.50830 to 0.50222, saving model to tmp2/weights.09.hdf5\n",
            "Epoch 10/25\n",
            "281/281 [==============================] - 868s 3s/step - loss: 0.4994 - val_loss: 0.4990\n",
            "\n",
            "Epoch 00010: val_loss improved from 0.50222 to 0.49905, saving model to tmp2/weights.10.hdf5\n",
            "Epoch 11/25\n",
            "281/281 [==============================] - 862s 3s/step - loss: 0.4928 - val_loss: 0.4938\n",
            "\n",
            "Epoch 00011: val_loss improved from 0.49905 to 0.49385, saving model to tmp2/weights.11.hdf5\n",
            "Epoch 12/25\n",
            "281/281 [==============================] - 865s 3s/step - loss: 0.4844 - val_loss: 0.4893\n",
            "\n",
            "Epoch 00012: val_loss improved from 0.49385 to 0.48934, saving model to tmp2/weights.12.hdf5\n",
            "Epoch 13/25\n",
            "281/281 [==============================] - 867s 3s/step - loss: 0.4798 - val_loss: 0.4832\n",
            "\n",
            "Epoch 00013: val_loss improved from 0.48934 to 0.48318, saving model to tmp2/weights.13.hdf5\n",
            "Epoch 14/25\n",
            "281/281 [==============================] - 866s 3s/step - loss: 0.4707 - val_loss: 0.4764\n",
            "\n",
            "Epoch 00014: val_loss improved from 0.48318 to 0.47636, saving model to tmp2/weights.14.hdf5\n",
            "Epoch 15/25\n",
            "281/281 [==============================] - 862s 3s/step - loss: 0.4648 - val_loss: 0.4730\n",
            "\n",
            "Epoch 00015: val_loss improved from 0.47636 to 0.47298, saving model to tmp2/weights.15.hdf5\n",
            "Epoch 16/25\n",
            "281/281 [==============================] - 865s 3s/step - loss: 0.4590 - val_loss: 0.4702\n",
            "\n",
            "Epoch 00016: val_loss improved from 0.47298 to 0.47018, saving model to tmp2/weights.16.hdf5\n",
            "Epoch 17/25\n",
            "281/281 [==============================] - 864s 3s/step - loss: 0.4535 - val_loss: 0.4655\n",
            "\n",
            "Epoch 00017: val_loss improved from 0.47018 to 0.46551, saving model to tmp2/weights.17.hdf5\n",
            "Epoch 18/25\n",
            "281/281 [==============================] - 865s 3s/step - loss: 0.4479 - val_loss: 0.4657\n",
            "\n",
            "Epoch 00018: val_loss did not improve from 0.46551\n",
            "Epoch 19/25\n",
            "281/281 [==============================] - 868s 3s/step - loss: 0.4425 - val_loss: 0.4640\n",
            "\n",
            "Epoch 00019: val_loss improved from 0.46551 to 0.46403, saving model to tmp2/weights.19.hdf5\n",
            "Epoch 20/25\n",
            "281/281 [==============================] - 864s 3s/step - loss: 0.4378 - val_loss: 0.4608\n",
            "\n",
            "Epoch 00020: val_loss improved from 0.46403 to 0.46076, saving model to tmp2/weights.20.hdf5\n",
            "Epoch 21/25\n",
            "281/281 [==============================] - 865s 3s/step - loss: 0.4317 - val_loss: 0.4594\n",
            "\n",
            "Epoch 00021: val_loss improved from 0.46076 to 0.45943, saving model to tmp2/weights.21.hdf5\n",
            "Epoch 22/25\n",
            "281/281 [==============================] - 864s 3s/step - loss: 0.4249 - val_loss: 0.4555\n",
            "\n",
            "Epoch 00022: val_loss improved from 0.45943 to 0.45551, saving model to tmp2/weights.22.hdf5\n",
            "Epoch 23/25\n",
            "281/281 [==============================] - 866s 3s/step - loss: 0.4216 - val_loss: 0.4560\n",
            "\n",
            "Epoch 00023: val_loss did not improve from 0.45551\n",
            "Epoch 24/25\n",
            "281/281 [==============================] - 863s 3s/step - loss: 0.4149 - val_loss: 0.4514\n",
            "\n",
            "Epoch 00024: val_loss improved from 0.45551 to 0.45137, saving model to tmp2/weights.24.hdf5\n",
            "Epoch 25/25\n",
            "281/281 [==============================] - 864s 3s/step - loss: 0.4093 - val_loss: 0.4537\n",
            "\n",
            "Epoch 00025: val_loss did not improve from 0.45137\n"
          ],
          "name": "stdout"
        }
      ]
    },
    {
      "cell_type": "code",
      "metadata": {
        "id": "-H4UtyGNfXTw",
        "colab": {
          "base_uri": "https://localhost:8080/",
          "height": 509
        },
        "outputId": "b6d5568e-50cf-4e4d-ee63-f647898d068a"
      },
      "source": [
        "# Model loss con lr = 0.00001\n",
        "plt.plot([1.0722, 0.8420, 0.6799, 0.5950, 0.5610, 0.5435, 0.5286, 0.5178, \n",
        "          0.5075, 0.4994, 0.4928, 0.4844, 0.4798, 0.4707, 0.4648, 0.4590, \n",
        "          0.4535, 0.4479, 0.4425, 0.4378, 0.4317, 0.4249, 0.4216, 0.4149, \n",
        "          0.4093, 0.4031, 0.3963, 0.3897, 0.3855])\n",
        "plt.plot([0.9305, 0.7250, 0.6114, 0.5667, 0.5448, 0.5340, 0.5239, 0.5083, \n",
        "          0.5022, 0.4990, 0.4938, 0.4893, 0.4832, 0.4764, 0.4730, 0.4702,\n",
        "          0.4655, 0.4657, 0.4640, 0.4608, 0.4594, 0.4555, 0.4560, 0.4514, \n",
        "          0.4537, 0.4527, 0.4518, 0.4528, 0.4583])\n",
        "plt.title('Model loss')\n",
        "plt.ylabel('loss')\n",
        "plt.xlabel('epoch')\n",
        "plt.legend(['train', 'val'], loc='upper left')\n",
        "plt.show()\n"
      ],
      "execution_count": null,
      "outputs": [
        {
          "output_type": "display_data",
          "data": {
            "image/png": "[encoded data removed]",
            "text/plain": [
              "<Figure size 640x480 with 1 Axes>"
            ]
          },
          "metadata": {
            "tags": []
          }
        },
        {
          "output_type": "execute_result",
          "data": {
            "text/plain": [
              "'\\n281/281 [==============================] - 877s 3s/step - loss: 0.4031 - val_loss: 0.4527\\n\\nEpoch 00001: val_loss did not improve from 0.45263\\nEpoch 2/25\\n281/281 [==============================] - 892s 3s/step - loss: 0.3963 - val_loss: 0.4518\\n\\nEpoch 00002: val_loss improved from 0.45263 to 0.45182, saving model to tmp4/weights.02.hdf5\\nEpoch 3/25\\n281/281 [==============================] - 901s 3s/step - loss: 0.3897 - val_loss: 0.4528\\n\\nEpoch 00003: val_loss did not improve from 0.45182\\nEpoch 4/25\\n281/281 [==============================] - 911s 3s/step - loss: 0.3855 - val_loss: 0.4583\\n\\nEpoch 00004: val_loss did not improve from 0.45182\\nEpoch 5/25\\n281/281 [==============================] - 889s 3s/step - loss: 0.3795 - val_loss: 0.4543\\n\\nEpoch 00005: val_loss did not improve from 0.45182\\nEpoch 6/25\\n281/281 [==============================] - 883s 3s/step - loss: 0.3738 - val_loss: 0.4721\\n\\nEpoch 00006: val_loss did not improve from 0.45182\\nEpoch 7/25\\n281/281 [==============================] - 884s 3s/step - loss: 0.3679 - val_loss: 0.4653\\n\\nEpoch 00007: val_loss did not improve from 0.45182'"
            ]
          },
          "metadata": {
            "tags": []
          },
          "execution_count": 26
        }
      ]
    },
    {
      "cell_type": "markdown",
      "metadata": {
        "id": "OzBnkksv-_L6"
      },
      "source": [
        "#### Lectura shuffled map para la implementación del área bajo de curva**"
      ]
    },
    {
      "cell_type": "code",
      "metadata": {
        "id": "ZzMeDC6NnzmJ",
        "colab": {
          "base_uri": "https://localhost:8080/",
          "height": 507
        },
        "outputId": "5d7a7ab9-88b3-43f7-b6e1-dc36944f87f0"
      },
      "source": [
        "# Leer y preprocesar el mapa de fijación  -----------------------------------\n",
        "other_map = color.rgb2gray(io.imread(\"sAUC/other_map_gauss.png\"))\n",
        "\n",
        "plt.subplot(2,1,1)\n",
        "plt.imshow(other_map, cmap='gray')\n",
        "plt.colorbar()\n",
        "\n",
        "other_map = rescale(other_map, (1.0 / 2.0), anti_aliasing=False)   #Reducción a la mitad\n",
        "print(\"Shape of other_map\",other_map.shape)\n",
        "\n",
        "plt.subplot(2,1,2)\n",
        "plt.imshow(other_map, cmap='gray')\n",
        "plt.colorbar()\n",
        "plt.show()\n",
        "#------------------------------------------------------------------------------"
      ],
      "execution_count": null,
      "outputs": [
        {
          "output_type": "stream",
          "text": [
            "/usr/local/lib/python3.6/dist-packages/skimage/transform/_warps.py:23: UserWarning: The default multichannel argument (None) is deprecated.  Please specify either True or False explicitly.  multichannel will default to False starting with release 0.16.\n",
            "  warn('The default multichannel argument (None) is deprecated.  Please '\n"
          ],
          "name": "stderr"
        },
        {
          "output_type": "stream",
          "text": [
            "Shape of other_map (240, 320)\n"
          ],
          "name": "stdout"
        },
        {
          "output_type": "display_data",
          "data": {
            "image/png": "[encoded data removed]",
            "text/plain": [
              "<Figure size 640x480 with 4 Axes>"
            ]
          },
          "metadata": {
            "tags": []
          }
        }
      ]
    },
    {
      "cell_type": "code",
      "metadata": {
        "id": "OAC3o1FnB7GA",
        "colab": {
          "base_uri": "https://localhost:8080/",
          "height": 292
        },
        "outputId": "0c453072-3d39-48f9-feb7-21d2ca462957"
      },
      "source": [
        "# Se evalúan todas las predicciones en el conjunto TEST\n",
        "NSS_m = 0\n",
        "KL_m = 0\n",
        "sAUC_m = 0\n",
        "\n",
        "# Se obtienen los mapas de predicción y se guardan\n",
        "smaps = [path_predic + f for f in os.listdir(path_predic) if f.endswith(('.jpg', '.jpeg', '.png'))]\n",
        "maps = [path_maps_test + f for f in os.listdir(path_maps_test) if f.endswith(('.jpg', '.jpeg', '.png'))]\n",
        "fixs = [path_fixs_test + f for f in os.listdir(path_fixs_test) if f.endswith(('.jpg', '.jpeg', '.png'))]\n",
        "smaps.sort()\n",
        "maps.sort()\n",
        "fixs.sort()\n",
        "\n",
        "matrix = np.zeros((len(smaps),3))\n",
        "\n",
        "for i in range(len(smaps)):\n",
        "  # Y = mapas preprocesados\n",
        "  Y = io.imread(maps[i])\n",
        "  Y = rescale(Y.astype(np.float32), 1.0 / 2.0, anti_aliasing=False)   #Se reduce a la mitad\n",
        "  Y /= 255.0\n",
        "        \n",
        "  # F = fijaciones preprocesadas\n",
        "  F = color.rgb2gray(io.imread(fixs[i]))\n",
        "  F = rescale(F.astype(np.float32), 1.0 / 2.0, anti_aliasing=False)   #Se reducen a la mitad\n",
        "  F = normalize_map(F)\n",
        "  r,c = np.nonzero(F)\n",
        "  # Después de cambiar la escala, los valores de intensidad cambian -> Conversión de imagen a binaria\n",
        "  for j in range (len(r)):\n",
        "    F[ r[j],c[j] ] = 1\n",
        "   \n",
        "  # smap = saliency maps preprocesados\n",
        "  smap = color.rgb2gray(io.imread(smaps[i]))\n",
        "  #smap = gaussian_filter(smap, 2)\n",
        "\n",
        "  #Evaluación\n",
        "  NSS = nss(smap,F)\n",
        "  KL = kldiv(smap,Y)\n",
        "  sAUC = sAUC_Zhang(smap, F, other_map )\n",
        "  \n",
        "  NSS_m += NSS \n",
        "  KL_m += KL\n",
        "  sAUC_m += sAUC\n",
        "  \n",
        "  #Se guardan las evaluaciones en una matriz\n",
        "  matrix[i,0] = NSS\n",
        "  matrix[i,1] = KL\n",
        "  matrix[i,2] = sAUC\n",
        "  \n",
        "  if (i % 500) == 0:\n",
        "    print(matrix[i],\"i= \", i)\n",
        "\n",
        "print(NSS_m/len(smaps))\n",
        "print(KL_m/len(smaps))\n",
        "print(sAUC_m/len(smaps))\n"
      ],
      "execution_count": null,
      "outputs": [
        {
          "output_type": "stream",
          "text": [
            "/usr/local/lib/python3.6/dist-packages/skimage/transform/_warps.py:23: UserWarning: The default multichannel argument (None) is deprecated.  Please specify either True or False explicitly.  multichannel will default to False starting with release 0.16.\n",
            "  warn('The default multichannel argument (None) is deprecated.  Please '\n"
          ],
          "name": "stderr"
        },
        {
          "output_type": "stream",
          "text": [
            "[0.64544645 0.36084673 0.57275945] i=  0\n",
            "[0.90005471 0.21054957 0.5582323 ] i=  500\n",
            "[1.38024385 0.52610878 0.68101264] i=  1000\n",
            "[2.65842231 0.41204342 0.88819501] i=  1500\n",
            "[2.13936794 0.5427667  0.82809775] i=  2000\n",
            "[2.26171187 0.58664693 0.83218463] i=  2500\n",
            "[1.92056956 0.42200336 0.83691156] i=  3000\n",
            "[0.88428327 0.17356954 0.56445114] i=  3500\n",
            "[2.01352144 0.6427048  0.81679825] i=  4000\n",
            "[1.46240938 0.86032607 0.88831019] i=  4500\n",
            "1.465567440559221\n",
            "0.4373982788587102\n",
            "0.7134179984184019\n"
          ],
          "name": "stdout"
        }
      ]
    }
  ]
}